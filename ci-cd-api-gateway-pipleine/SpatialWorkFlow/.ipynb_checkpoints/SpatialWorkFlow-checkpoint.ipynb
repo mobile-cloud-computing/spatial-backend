{
 "cells": [
  {
   "cell_type": "markdown",
   "id": "baea079f",
   "metadata": {},
   "source": [
    "## SPATIAL XAI Automation Workflow"
   ]
  },
  {
   "cell_type": "code",
   "execution_count": 4,
   "id": "db07d8d7",
   "metadata": {},
   "outputs": [],
   "source": [
    "#Importing necessary libs\n",
    "import os\n",
    "import getpass"
   ]
  },
  {
   "cell_type": "markdown",
   "id": "3edc1cb3",
   "metadata": {},
   "source": [
    "#### Extractign the OpenAPI specs from the up-running services. "
   ]
  },
  {
   "cell_type": "code",
   "execution_count": 5,
   "id": "77674b77",
   "metadata": {},
   "outputs": [
    {
     "name": "stderr",
     "output_type": "stream",
     "text": [
      "--2022-11-29 21:28:20--  http://localhost/openapi.json\n",
      "Resolving localhost (localhost)... ::1, 127.0.0.1\n",
      "Connecting to localhost (localhost)|::1|:80... connected.\n",
      "HTTP request sent, awaiting response... 200 OK\n",
      "Length: 2765 (2,7K) [application/json]\n",
      "Saving to: ‘openapi.json.1’\n",
      "\n",
      "     0K ..                                                    100%  220M=0s\n",
      "\n",
      "2022-11-29 21:28:20 (220 MB/s) - ‘openapi.json.1’ saved [2765/2765]\n",
      "\n"
     ]
    },
    {
     "data": {
      "text/plain": [
       "0"
      ]
     },
     "execution_count": 5,
     "metadata": {},
     "output_type": "execute_result"
    }
   ],
   "source": [
    "os.system (\"bash -c 'wget  http://localhost:80/openapi.json'\")"
   ]
  },
  {
   "cell_type": "markdown",
   "id": "74a02a6f",
   "metadata": {},
   "source": [
    "#### Show the OpenAPI specs from the up-running services. "
   ]
  },
  {
   "cell_type": "code",
   "execution_count": 6,
   "id": "aaa93968",
   "metadata": {},
   "outputs": [
    {
     "name": "stderr",
     "output_type": "stream",
     "text": [
      "  % Total    % Received % Xferd  Average Speed   Time    Time     Time  Current\n",
      "                                 Dload  Upload   Total   Spent    Left  Speed\n",
      "\r",
      "  0     0    0     0    0     0      0      0 --:--:-- --:--:-- --:--:--     0\r",
      "100  2765  100  2765    0     0   176k      0 --:--:-- --:--:-- --:--:--  385k\n"
     ]
    },
    {
     "data": {
      "text/plain": [
       "0"
      ]
     },
     "execution_count": 6,
     "metadata": {},
     "output_type": "execute_result"
    },
    {
     "name": "stdout",
     "output_type": "stream",
     "text": [
      "{\n",
      "  \"openapi\": \"3.0.2\",\n",
      "  \"info\": {\n",
      "    \"title\": \"XAI Microservices Docker\",\n",
      "    \"description\": \"\\n        xAI Microservices APIs helps you to understand the internal model structure and provide you explaination. 🚀\\n        \\n        ## Image Class Prediction Service\\n        \\n        You can just pass an image to the Predict API and get prediction back as JSON\\n        \\n        ## LIME and SHAP Explainability Services\\n        \\n        Just pass your image to the LIME Microservice and this service provide you the results in JSON\\n        \\n        ## Occlusion Sensitivity Explainability Service\\n        \\n        * *Send Image True Label** (_cardboard,glass,metal,paper,plastic,trash_).\\n        \",\n",
      "    \"version\": \"0.0.1\",\n",
      "    \"termsOfService\": \"https://dps.cs.ut.ee/index.html\",\n",
      "    \"contact\": {\n",
      "      \"name\": \"Mohamed Ragab, Mehrdad Asadi, Ph.D., Rasheed Otttun, Huber Folres, Assoc. Prof.\",\n",
      "      \"url\": \"https://dps.cs.ut.ee/people.html\",\n",
      "      \"email\": \"mohamed.ragab@ut.ee, mehrdad.asadi@ut.ee, rasheed.ottun@ut.ee, huber.flores@ut.ee\"\n",
      "    },\n",
      "    \"license\": {\n",
      "      \"name\": \"Apache 2.0\",\n",
      "      \"url\": \"https://www.apache.org/licenses/LICENSE-2.0.html\"\n",
      "    }\n",
      "  },\n",
      "  \"servers\": [\n",
      "    {\n",
      "      \"url\": \"http://localhost:80\"\n",
      "    }\n",
      "  ],\n",
      "  \"paths\": {\n",
      "    \"/\": {\n",
      "      \"get\": {\n",
      "        \"summary\": \"Root\",\n",
      "        \"operationId\": \"root__get\",\n",
      "        \"responses\": {\n",
      "          \"200\": {\n",
      "            \"description\": \"Successful Response\",\n",
      "            \"content\": {\n",
      "              \"application/json\": {\n",
      "                \"schema\": {}\n",
      "              }\n",
      "            }\n",
      "          }\n",
      "        }\n",
      "      }\n",
      "    },\n",
      "    \"/users\": {\n",
      "      \"get\": {\n",
      "        \"summary\": \"Users\",\n",
      "        \"operationId\": \"users_users_get\",\n",
      "        \"responses\": {\n",
      "          \"200\": {\n",
      "            \"description\": \"Successful Response\",\n",
      "            \"content\": {\n",
      "              \"application/json\": {\n",
      "                \"schema\": {}\n",
      "              }\n",
      "            }\n",
      "          }\n",
      "        }\n",
      "      }\n",
      "    },\n",
      "    \"/programming_languages\": {\n",
      "      \"get\": {\n",
      "        \"summary\": \"List Programming Languages\",\n",
      "        \"operationId\": \"list_programming_languages_programming_languages_get\",\n",
      "        \"parameters\": [\n",
      "          {\n",
      "            \"required\": false,\n",
      "            \"schema\": {\n",
      "              \"title\": \"Publication Year\",\n",
      "              \"type\": \"integer\",\n",
      "              \"default\": 2010\n",
      "            },\n",
      "            \"name\": \"publication_year\",\n",
      "            \"in\": \"query\"\n",
      "          },\n",
      "          {\n",
      "            \"required\": false,\n",
      "            \"schema\": {\n",
      "              \"title\": \"In Memory Datastore\",\n",
      "              \"default\": \"volt\"\n",
      "            },\n",
      "            \"name\": \"in_memory_datastore\",\n",
      "            \"in\": \"query\"\n",
      "          }\n",
      "        ],\n",
      "        \"responses\": {\n",
      "          \"200\": {\n",
      "            \"description\": \"Successful Response\",\n",
      "            \"content\": {\n",
      "              \"application/json\": {\n",
      "                \"schema\": {}\n",
      "              }\n",
      "            }\n",
      "          },\n",
      "          \"422\": {\n",
      "            \"description\": \"Validation Error\",\n",
      "            \"content\": {\n",
      "              \"application/json\": {\n",
      "                \"schema\": {\n",
      "                  \"$ref\": \"#/components/schemas/HTTPValidationError\"\n",
      "                }\n",
      "              }\n",
      "            }\n",
      "          }\n",
      "        }\n",
      "      }\n",
      "    },\n",
      "    \"/newhello\": {\n",
      "      \"get\": {\n",
      "        \"summary\": \"Root\",\n",
      "        \"operationId\": \"root_newhello_get\",\n",
      "        \"responses\": {\n",
      "          \"200\": {\n",
      "            \"description\": \"Successful Response\",\n",
      "            \"content\": {\n",
      "              \"application/json\": {\n",
      "                \"schema\": {}\n",
      "              }\n",
      "            }\n",
      "          }\n",
      "        }\n",
      "      }\n",
      "    }\n",
      "  },\n",
      "  \"components\": {\n",
      "    \"schemas\": {\n",
      "      \"HTTPValidationError\": {\n",
      "        \"title\": \"HTTPValidationError\",\n",
      "        \"type\": \"object\",\n",
      "        \"properties\": {\n",
      "          \"detail\": {\n",
      "            \"title\": \"Detail\",\n",
      "            \"type\": \"array\",\n",
      "            \"items\": {\n",
      "              \"$ref\": \"#/components/schemas/ValidationError\"\n",
      "            }\n",
      "          }\n",
      "        }\n",
      "      },\n",
      "      \"ValidationError\": {\n",
      "        \"title\": \"ValidationError\",\n",
      "        \"required\": [\n",
      "          \"loc\",\n",
      "          \"msg\",\n",
      "          \"type\"\n",
      "        ],\n",
      "        \"type\": \"object\",\n",
      "        \"properties\": {\n",
      "          \"loc\": {\n",
      "            \"title\": \"Location\",\n",
      "            \"type\": \"array\",\n",
      "            \"items\": {\n",
      "              \"type\": \"string\"\n",
      "            }\n",
      "          },\n",
      "          \"msg\": {\n",
      "            \"title\": \"Message\",\n",
      "            \"type\": \"string\"\n",
      "          },\n",
      "          \"type\": {\n",
      "            \"title\": \"Error Type\",\n",
      "            \"type\": \"string\"\n",
      "          }\n",
      "        }\n",
      "      }\n",
      "    }\n",
      "  }\n",
      "}\n"
     ]
    }
   ],
   "source": [
    "os.system (\"bash -c 'curl http://localhost:80/openapi.json |jq'\")"
   ]
  },
  {
   "cell_type": "markdown",
   "id": "0d91b565",
   "metadata": {},
   "source": [
    "#### List Files in the directory. "
   ]
  },
  {
   "cell_type": "code",
   "execution_count": 7,
   "id": "6b0251a6",
   "metadata": {},
   "outputs": [
    {
     "name": "stdout",
     "output_type": "stream",
     "text": [
      "total 80\n",
      "-rw-r--r--  1 ragab  staff  5601 Nov 26 13:16 SpatialWorkFlow.ipynb\n",
      "-rw-r--r--@ 1 ragab  staff  1000 Nov 24 19:58 fastapi-deck-import.yaml\n",
      "-rw-r--r--  1 root   staff  1014 Nov 24 19:52 fastapi-deck.yaml\n",
      "-rw-r--r--  1 ragab  staff  4513 Nov 24 19:51 openapi.json\n",
      "-rw-r--r--  1 ragab  staff  2765 Nov 29 21:28 openapi.json.1\n",
      "-rw-r--r--  1 ragab  staff  5526 Nov 24 19:52 openapi.yaml\n",
      "-rw-r--r--  1 ragab  staff  3281 Nov 26 11:24 openapi.yaml.1\n"
     ]
    },
    {
     "data": {
      "text/plain": [
       "0"
      ]
     },
     "execution_count": 7,
     "metadata": {},
     "output_type": "execute_result"
    }
   ],
   "source": [
    "os.system (\"bash -c 'ls -l'\")"
   ]
  },
  {
   "cell_type": "markdown",
   "id": "98efb037",
   "metadata": {},
   "source": [
    "#### Convert the generated openapi specs json file into yaml\n"
   ]
  },
  {
   "cell_type": "code",
   "execution_count": 8,
   "id": "66e112f1",
   "metadata": {},
   "outputs": [
    {
     "name": "stdout",
     "output_type": "stream",
     "text": [
      "openapi: 3.0.2\n",
      "info:\n",
      "  title: XAI Microservices Docker\n",
      "  description: \"\\n        xAI Microservices APIs helps you to understand the internal model structure and provide you explaination. \\U0001F680\\n        \\n        ## Image Class Prediction Service\\n        \\n        You can just pass an image to the Predict API and get prediction back as JSON\\n        \\n        ## LIME and SHAP Explainability Services\\n        \\n        Just pass your image to the LIME Microservice and this service provide you the results in JSON\\n        \\n        ## Occlusion Sensitivity Explainability Service\\n        \\n        * *Send Image True Label** (_cardboard,glass,metal,paper,plastic,trash_).\\n        \"\n",
      "  version: 0.0.1\n",
      "  termsOfService: https://dps.cs.ut.ee/index.html\n",
      "  contact:\n",
      "    name: Mohamed Ragab, Mehrdad Asadi, Ph.D., Rasheed Otttun, Huber Folres, Assoc. Prof.\n",
      "    url: https://dps.cs.ut.ee/people.html\n",
      "    email: mohamed.ragab@ut.ee, mehrdad.asadi@ut.ee, rasheed.ottun@ut.ee, huber.flores@ut.ee\n",
      "  license:\n",
      "    name: Apache 2.0\n",
      "    url: https://www.apache.org/licenses/LICENSE-2.0.html\n",
      "servers:\n",
      "  - url: http://localhost:80\n",
      "paths:\n",
      "  /:\n",
      "    get:\n",
      "      summary: Root\n",
      "      operationId: root__get\n",
      "      responses:\n",
      "        \"200\":\n",
      "          description: Successful Response\n",
      "          content:\n",
      "            application/json:\n",
      "              schema: {}\n",
      "  /users:\n",
      "    get:\n",
      "      summary: Users\n",
      "      operationId: users_users_get\n",
      "      responses:\n",
      "        \"200\":\n",
      "          description: Successful Response\n",
      "          content:\n",
      "            application/json:\n",
      "              schema: {}\n",
      "  /programming_languages:\n",
      "    get:\n",
      "      summary: List Programming Languages\n",
      "      operationId: list_programming_languages_programming_languages_get\n",
      "      parameters:\n",
      "        - required: false\n",
      "          schema:\n",
      "            title: Publication Year\n",
      "            type: integer\n",
      "            default: 2010\n",
      "          name: publication_year\n",
      "          in: query\n",
      "        - required: false\n",
      "          schema:\n",
      "            title: In Memory Datastore\n",
      "            default: volt\n",
      "          name: in_memory_datastore\n",
      "          in: query\n",
      "      responses:\n",
      "        \"200\":\n",
      "          description: Successful Response\n",
      "          content:\n",
      "            application/json:\n",
      "              schema: {}\n",
      "        \"422\":\n",
      "          description: Validation Error\n",
      "          content:\n",
      "            application/json:\n",
      "              schema:\n",
      "                $ref: '#/components/schemas/HTTPValidationError'\n",
      "  /newhello:\n",
      "    get:\n",
      "      summary: Root\n",
      "      operationId: root_newhello_get\n",
      "      responses:\n",
      "        \"200\":\n",
      "          description: Successful Response\n",
      "          content:\n",
      "            application/json:\n",
      "              schema: {}\n",
      "components:\n",
      "  schemas:\n",
      "    HTTPValidationError:\n",
      "      title: HTTPValidationError\n",
      "      type: object\n",
      "      properties:\n",
      "        detail:\n",
      "          title: Detail\n",
      "          type: array\n",
      "          items:\n",
      "            $ref: '#/components/schemas/ValidationError'\n",
      "    ValidationError:\n",
      "      title: ValidationError\n",
      "      required:\n",
      "        - loc\n",
      "        - msg\n",
      "        - type\n",
      "      type: object\n",
      "      properties:\n",
      "        loc:\n",
      "          title: Location\n",
      "          type: array\n",
      "          items:\n",
      "            type: string\n",
      "        msg:\n",
      "          title: Message\n",
      "          type: string\n",
      "        type:\n",
      "          title: Error Type\n",
      "          type: string\n"
     ]
    },
    {
     "data": {
      "text/plain": [
       "0"
      ]
     },
     "execution_count": 8,
     "metadata": {},
     "output_type": "execute_result"
    }
   ],
   "source": [
    "os.system (\"bash -c 'yq -P openapi.json.1'\")"
   ]
  },
  {
   "cell_type": "code",
   "execution_count": 9,
   "id": "948ac8a6",
   "metadata": {},
   "outputs": [
    {
     "data": {
      "text/plain": [
       "0"
      ]
     },
     "execution_count": 9,
     "metadata": {},
     "output_type": "execute_result"
    }
   ],
   "source": [
    "os.system (\"bash -c 'yq -P openapi.json.1> openapi.yaml.1'\")"
   ]
  },
  {
   "cell_type": "markdown",
   "id": "2b3bc08c",
   "metadata": {},
   "source": [
    "#### Using \"Inso\" Generate the fast-api-yaml that decK can understand."
   ]
  },
  {
   "cell_type": "code",
   "execution_count": 10,
   "id": "0c27f695",
   "metadata": {},
   "outputs": [
    {
     "name": "stdout",
     "output_type": "stream",
     "text": [
      "········\n"
     ]
    },
    {
     "name": "stderr",
     "output_type": "stream",
     "text": [
      "Password:"
     ]
    },
    {
     "name": "stdout",
     "output_type": "stream",
     "text": [
      "Configuration generated to \"fastapi-deck.yaml.1\".\n"
     ]
    },
    {
     "data": {
      "text/plain": [
       "0"
      ]
     },
     "execution_count": 10,
     "metadata": {},
     "output_type": "execute_result"
    }
   ],
   "source": [
    "password = getpass.getpass()\n",
    "command=\"sudo -S inso generate config ./openapi.yaml.1 -o fastapi-deck.yaml.1\"\n",
    "os.system('echo %s | %s' % (password, command))"
   ]
  },
  {
   "cell_type": "markdown",
   "id": "99070f19",
   "metadata": {},
   "source": [
    "#### List Files in the directory agin!. "
   ]
  },
  {
   "cell_type": "code",
   "execution_count": 11,
   "id": "0b538296",
   "metadata": {},
   "outputs": [
    {
     "name": "stdout",
     "output_type": "stream",
     "text": [
      "total 88\n",
      "-rw-r--r--  1 ragab  staff  5601 Nov 26 13:16 SpatialWorkFlow.ipynb\n",
      "-rw-r--r--@ 1 ragab  staff  1000 Nov 24 19:58 fastapi-deck-import.yaml\n",
      "-rw-r--r--  1 root   staff  1014 Nov 24 19:52 fastapi-deck.yaml\n",
      "-rw-r--r--  1 root   staff   958 Nov 29 21:28 fastapi-deck.yaml.1\n",
      "-rw-r--r--  1 ragab  staff  4513 Nov 24 19:51 openapi.json\n",
      "-rw-r--r--  1 ragab  staff  2765 Nov 29 21:28 openapi.json.1\n",
      "-rw-r--r--  1 ragab  staff  5526 Nov 24 19:52 openapi.yaml\n",
      "-rw-r--r--  1 ragab  staff  3281 Nov 29 21:28 openapi.yaml.1\n"
     ]
    },
    {
     "data": {
      "text/plain": [
       "0"
      ]
     },
     "execution_count": 11,
     "metadata": {},
     "output_type": "execute_result"
    }
   ],
   "source": [
    "os.system (\"bash -c 'ls -l'\")"
   ]
  },
  {
   "cell_type": "markdown",
   "id": "70a17429",
   "metadata": {},
   "source": [
    "#### Run Kong API GateWay if not started. "
   ]
  },
  {
   "cell_type": "code",
   "execution_count": null,
   "id": "a8bf2b78",
   "metadata": {},
   "outputs": [],
   "source": [
    "os.system (\"bash -c 'kong start -c /etc/kong/kong.conf --v'\")"
   ]
  },
  {
   "cell_type": "markdown",
   "id": "3b4cf9fa",
   "metadata": {},
   "source": [
    "#### Run this only if you want to \"reset\" all confogirations (Services, Routes, Plugins, ertc.) in the Kong API GateWay . "
   ]
  },
  {
   "cell_type": "code",
   "execution_count": null,
   "id": "65c5f8db",
   "metadata": {},
   "outputs": [],
   "source": [
    "os.system (\"bash -c 'deck reset -f'\")"
   ]
  },
  {
   "cell_type": "code",
   "execution_count": null,
   "id": "631d190b",
   "metadata": {},
   "outputs": [],
   "source": [
    "#Change the version of the OpenAPI using yq CLI tool\n",
    "# os.system (\"\"\"bash -c \"yq '._format_version = \"3.0\"' fastapi-deck.yaml.1 > fastapi-deck-import.yaml.1 \" \"\"\")"
   ]
  },
  {
   "cell_type": "code",
   "execution_count": 12,
   "id": "8d1bf0b3",
   "metadata": {},
   "outputs": [
    {
     "data": {
      "text/plain": [
       "0"
      ]
     },
     "execution_count": 12,
     "metadata": {},
     "output_type": "execute_result"
    }
   ],
   "source": [
    "os.system (\"\"\"bash -c sed -i -- 's/1.1/3.0/g' fastapi-deck.yaml.1\"\"\")"
   ]
  },
  {
   "cell_type": "code",
   "execution_count": 13,
   "id": "f5f44956",
   "metadata": {},
   "outputs": [
    {
     "data": {
      "text/plain": [
       "0"
      ]
     },
     "execution_count": 13,
     "metadata": {},
     "output_type": "execute_result"
    }
   ],
   "source": [
    "os.system (\"\"\"bash -c \"sed 's/[$]//g' fastapi-deck.yaml.1> fastapi-deck-import.yaml.1   \" \"\"\")"
   ]
  },
  {
   "cell_type": "code",
   "execution_count": null,
   "id": "64747d4e",
   "metadata": {},
   "outputs": [],
   "source": [
    "#Change it using the decK Specs\n",
    "# password = getpass.getpass()\n",
    "# command=\"sudo -S deck convert --from kong-gateway-2.x --to kong-gateway-3.x\"\n",
    "# os.system('echo %s | %s' % (password, command))"
   ]
  },
  {
   "cell_type": "markdown",
   "id": "8baf2feb",
   "metadata": {},
   "source": [
    "### Update the microservices to the API GateWay using \"decK Syn\"."
   ]
  },
  {
   "cell_type": "code",
   "execution_count": 14,
   "id": "11c92eb8",
   "metadata": {},
   "outputs": [
    {
     "name": "stdout",
     "output_type": "stream",
     "text": [
      "creating service XAI_Microservices_Docker\n",
      "Summary:\n",
      "  Created: 0\n",
      "  Updated: 0\n",
      "  Deleted: 0\n"
     ]
    },
    {
     "name": "stderr",
     "output_type": "stream",
     "text": [
      "Error: 1 errors occurred:\n",
      "\twhile processing event: {Create} service XAI_Microservices_Docker failed: HTTP status 405 (message: \"cannot create or update 'services' entities when not using a database\")\n",
      "\n"
     ]
    },
    {
     "data": {
      "text/plain": [
       "256"
      ]
     },
     "execution_count": 14,
     "metadata": {},
     "output_type": "execute_result"
    }
   ],
   "source": [
    "os.system ('deck sync -s fastapi-deck-import.yaml.1 --select-tag inso-generated-fastapi-another-service')"
   ]
  }
 ],
 "metadata": {
  "kernelspec": {
   "display_name": "Python 3 (ipykernel)",
   "language": "python",
   "name": "python3"
  },
  "language_info": {
   "codemirror_mode": {
    "name": "ipython",
    "version": 3
   },
   "file_extension": ".py",
   "mimetype": "text/x-python",
   "name": "python",
   "nbconvert_exporter": "python",
   "pygments_lexer": "ipython3",
   "version": "3.9.5"
  }
 },
 "nbformat": 4,
 "nbformat_minor": 5
}
