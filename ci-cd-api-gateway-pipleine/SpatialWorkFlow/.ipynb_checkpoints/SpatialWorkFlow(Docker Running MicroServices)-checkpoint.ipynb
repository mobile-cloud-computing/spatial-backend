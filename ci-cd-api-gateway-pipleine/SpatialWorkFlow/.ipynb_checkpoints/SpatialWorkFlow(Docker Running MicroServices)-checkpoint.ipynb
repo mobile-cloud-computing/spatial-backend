{
 "cells": [
  {
   "cell_type": "markdown",
   "id": "f234fd61",
   "metadata": {},
   "source": [
    "## SPATIAL (Docker Running MicroServices) Automation Workflow"
   ]
  },
  {
   "cell_type": "code",
   "execution_count": 13,
   "id": "db07d8d7",
   "metadata": {},
   "outputs": [],
   "source": [
    "#Importing necessary libs\n",
    "import os\n",
    "import getpass"
   ]
  },
  {
   "cell_type": "markdown",
   "id": "36645c7f",
   "metadata": {},
   "source": [
    "#### Extractign the OpenAPI specs from the up-running services. "
   ]
  },
  {
   "cell_type": "code",
   "execution_count": 14,
   "id": "77674b77",
   "metadata": {},
   "outputs": [
    {
     "name": "stderr",
     "output_type": "stream",
     "text": [
      "--2022-11-30 16:17:49--  http://localhost/openapi.json\n",
      "Resolving localhost (localhost)... ::1, 127.0.0.1\n",
      "Connecting to localhost (localhost)|::1|:80... connected.\n",
      "HTTP request sent, awaiting response... 200 OK\n",
      "Length: 2765 (2,7K) [application/json]\n",
      "Saving to: ‘openapi.json.1’\n",
      "\n",
      "     0K ..                                                    100%  220M=0s\n",
      "\n",
      "2022-11-30 16:17:49 (220 MB/s) - ‘openapi.json.1’ saved [2765/2765]\n",
      "\n"
     ]
    },
    {
     "data": {
      "text/plain": [
       "0"
      ]
     },
     "execution_count": 14,
     "metadata": {},
     "output_type": "execute_result"
    }
   ],
   "source": [
    "os.system (\"bash -c 'wget  http://localhost:80/openapi.json'\")"
   ]
  },
  {
   "cell_type": "markdown",
   "id": "bb4d9a40",
   "metadata": {},
   "source": [
    "#### Show the OpenAPI specs from the up-running services. "
   ]
  },
  {
   "cell_type": "code",
   "execution_count": 15,
   "id": "aaa93968",
   "metadata": {},
   "outputs": [
    {
     "name": "stdout",
     "output_type": "stream",
     "text": [
      "{\n",
      "  \"openapi\": \"3.0.2\",\n",
      "  \"info\": {\n",
      "    \"title\": \"XAI Microservices Docker\",\n",
      "    \"description\": \"\\n        xAI Microservices APIs helps you to understand the internal model structure and provide you explaination. 🚀\\n        \\n        ## Image Class Prediction Service\\n        \\n        You can just pass an image to the Predict API and get prediction back as JSON\\n        \\n        ## LIME and SHAP Explainability Services\\n        \\n        Just pass your image to the LIME Microservice and this service provide you the results in JSON\\n        \\n        ## Occlusion Sensitivity Explainability Service\\n        \\n        * *Send Image True Label** (_cardboard,glass,metal,paper,plastic,trash_).\\n        \",\n",
      "    \"version\": \"0.0.1\",\n",
      "    \"termsOfService\": \"https://dps.cs.ut.ee/index.html\",\n",
      "    \"contact\": {\n",
      "      \"name\": \"Mohamed Ragab, Mehrdad Asadi, Ph.D., Rasheed Otttun, Huber Folres, Assoc. Prof.\",\n",
      "      \"url\": \"https://dps.cs.ut.ee/people.html\",\n",
      "      \"email\": \"mohamed.ragab@ut.ee, mehrdad.asadi@ut.ee, rasheed.ottun@ut.ee, huber.flores@ut.ee\"\n",
      "    },\n",
      "    \"license\": {\n",
      "      \"name\": \"Apache 2.0\",\n",
      "      \"url\": \"https://www.apache.org/licenses/LICENSE-2.0.html\"\n",
      "    }\n",
      "  },\n",
      "  \"servers\": [\n",
      "    {\n",
      "      \"url\": \"http://localhost:80\"\n",
      "    }\n",
      "  ],\n",
      "  \"paths\": {\n",
      "    \"/\": {\n",
      "      \"get\": {\n",
      "        \"summary\": \"Root\",\n",
      "        \"operationId\": \"root__get\",\n",
      "        \"responses\": {\n",
      "          \"200\": {\n",
      "            \"description\": \"Successful Response\",\n",
      "            \"content\": {\n",
      "              \"application/json\": {\n",
      "                \"schema\": {}\n",
      "              }\n",
      "            }\n",
      "          }\n",
      "        }\n",
      "      }\n",
      "    },\n",
      "    \"/users\": {\n",
      "      \"get\": {\n",
      "        \"summary\": \"Users\",\n",
      "        \"operationId\": \"users_users_get\",\n",
      "        \"responses\": {\n",
      "          \"200\": {\n",
      "            \"description\": \"Successful Response\",\n",
      "            \"content\": {\n",
      "              \"application/json\": {\n",
      "                \"schema\": {}\n",
      "              }\n",
      "            }\n",
      "          }\n",
      "        }\n",
      "      }\n",
      "    },\n",
      "    \"/programming_languages\": {\n",
      "      \"get\": {\n",
      "        \"summary\": \"List Programming Languages\",\n",
      "        \"operationId\": \"list_programming_languages_programming_languages_get\",\n",
      "        \"parameters\": [\n",
      "          {\n",
      "            \"required\": false,\n",
      "            \"schema\": {\n",
      "              \"title\": \"Publication Year\",\n",
      "              \"type\": \"integer\",\n",
      "              \"default\": 2010\n",
      "            },\n",
      "            \"name\": \"publication_year\",\n",
      "            \"in\": \"query\"\n",
      "          },\n",
      "          {\n",
      "            \"required\": false,\n",
      "            \"schema\": {\n",
      "              \"title\": \"In Memory Datastore\",\n",
      "              \"default\": \"volt\"\n",
      "            },\n",
      "            \"name\": \"in_memory_datastore\",\n",
      "            \"in\": \"query\"\n",
      "          }\n",
      "        ],\n",
      "        \"responses\": {\n",
      "          \"200\": {\n",
      "            \"description\": \"Successful Response\",\n",
      "            \"content\": {\n",
      "              \"application/json\": {\n",
      "                \"schema\": {}\n",
      "              }\n",
      "            }\n",
      "          },\n",
      "          \"422\": {\n",
      "            \"description\": \"Validation Error\",\n",
      "            \"content\": {\n",
      "              "
     ]
    },
    {
     "name": "stderr",
     "output_type": "stream",
     "text": [
      "  % Total    % Received % Xferd  Average Speed   Time    Time     Time  Current\n",
      "                                 Dload  Upload   Total   Spent    Left  Speed\n",
      "\r",
      "  0     0    0     0    0     0      0      0 --:--:-- --:--:-- --:--:--     0\r",
      "100  2765  100  2765    0     0   124k      0 --:--:-- --:--:-- --:--:--  300k\n"
     ]
    },
    {
     "data": {
      "text/plain": [
       "0"
      ]
     },
     "execution_count": 15,
     "metadata": {},
     "output_type": "execute_result"
    },
    {
     "name": "stdout",
     "output_type": "stream",
     "text": [
      "\"application/json\": {\n",
      "                \"schema\": {\n",
      "                  \"$ref\": \"#/components/schemas/HTTPValidationError\"\n",
      "                }\n",
      "              }\n",
      "            }\n",
      "          }\n",
      "        }\n",
      "      }\n",
      "    },\n",
      "    \"/newhello\": {\n",
      "      \"get\": {\n",
      "        \"summary\": \"Root\",\n",
      "        \"operationId\": \"root_newhello_get\",\n",
      "        \"responses\": {\n",
      "          \"200\": {\n",
      "            \"description\": \"Successful Response\",\n",
      "            \"content\": {\n",
      "              \"application/json\": {\n",
      "                \"schema\": {}\n",
      "              }\n",
      "            }\n",
      "          }\n",
      "        }\n",
      "      }\n",
      "    }\n",
      "  },\n",
      "  \"components\": {\n",
      "    \"schemas\": {\n",
      "      \"HTTPValidationError\": {\n",
      "        \"title\": \"HTTPValidationError\",\n",
      "        \"type\": \"object\",\n",
      "        \"properties\": {\n",
      "          \"detail\": {\n",
      "            \"title\": \"Detail\",\n",
      "            \"type\": \"array\",\n",
      "            \"items\": {\n",
      "              \"$ref\": \"#/components/schemas/ValidationError\"\n",
      "            }\n",
      "          }\n",
      "        }\n",
      "      },\n",
      "      \"ValidationError\": {\n",
      "        \"title\": \"ValidationError\",\n",
      "        \"required\": [\n",
      "          \"loc\",\n",
      "          \"msg\",\n",
      "          \"type\"\n",
      "        ],\n",
      "        \"type\": \"object\",\n",
      "        \"properties\": {\n",
      "          \"loc\": {\n",
      "            \"title\": \"Location\",\n",
      "            \"type\": \"array\",\n",
      "            \"items\": {\n",
      "              \"type\": \"string\"\n",
      "            }\n",
      "          },\n",
      "          \"msg\": {\n",
      "            \"title\": \"Message\",\n",
      "            \"type\": \"string\"\n",
      "          },\n",
      "          \"type\": {\n",
      "            \"title\": \"Error Type\",\n",
      "            \"type\": \"string\"\n",
      "          }\n",
      "        }\n",
      "      }\n",
      "    }\n",
      "  }\n",
      "}\n"
     ]
    }
   ],
   "source": [
    "os.system (\"bash -c 'curl http://localhost:80/openapi.json |jq'\")"
   ]
  },
  {
   "cell_type": "markdown",
   "id": "82e1b6e1",
   "metadata": {},
   "source": [
    "#### List Files in the directory. "
   ]
  },
  {
   "cell_type": "code",
   "execution_count": 16,
   "id": "6b0251a6",
   "metadata": {},
   "outputs": [
    {
     "name": "stdout",
     "output_type": "stream",
     "text": [
      "total 152\n",
      "-rw-r--r--  1 ragab  staff   5777 Nov 30 15:43 SpatialWorkFlow (Spring Running Service).ipynb\n",
      "-rw-r--r--  1 ragab  staff   5631 Nov 30 15:41 SpatialWorkFlow(Docker Running MicroServices).ipynb\n",
      "-rw-r--r--  1 ragab  staff  32398 Nov 30 16:13 SpatialWorkFlow(XAI).ipynb\n",
      "-rw-r--r--@ 1 ragab  staff   1010 Nov 30 16:11 fastapi-deck-import.yaml\n",
      "-rw-r--r--  1 root   staff   1014 Nov 30 16:10 fastapi-deck.yaml\n",
      "-rw-r--r--  1 ragab  staff   4513 Nov 30 16:08 openapi.json\n",
      "-rw-r--r--  1 ragab  staff   2765 Nov 30 16:17 openapi.json.1\n",
      "-rw-r--r--  1 ragab  staff   5526 Nov 30 16:09 openapi.yaml\n"
     ]
    },
    {
     "data": {
      "text/plain": [
       "0"
      ]
     },
     "execution_count": 16,
     "metadata": {},
     "output_type": "execute_result"
    }
   ],
   "source": [
    "os.system (\"bash -c 'ls -l'\")"
   ]
  },
  {
   "cell_type": "markdown",
   "id": "da1e22d4",
   "metadata": {},
   "source": [
    "#### Convert the generated openapi specs json file into yaml\n"
   ]
  },
  {
   "cell_type": "code",
   "execution_count": 17,
   "id": "66e112f1",
   "metadata": {},
   "outputs": [
    {
     "name": "stdout",
     "output_type": "stream",
     "text": [
      "openapi: 3.0.2\n",
      "info:\n",
      "  title: XAI Microservices Docker\n",
      "  description: \"\\n        xAI Microservices APIs helps you to understand the internal model structure and provide you explaination. \\U0001F680\\n        \\n        ## Image Class Prediction Service\\n        \\n        You can just pass an image to the Predict API and get prediction back as JSON\\n        \\n        ## LIME and SHAP Explainability Services\\n        \\n        Just pass your image to the LIME Microservice and this service provide you the results in JSON\\n        \\n        ## Occlusion Sensitivity Explainability Service\\n        \\n        * *Send Image True Label** (_cardboard,glass,metal,paper,plastic,trash_).\\n        \"\n",
      "  version: 0.0.1\n",
      "  termsOfService: https://dps.cs.ut.ee/index.html\n",
      "  contact:\n",
      "    name: Mohamed Ragab, Mehrdad Asadi, Ph.D., Rasheed Otttun, Huber Folres, Assoc. Prof.\n",
      "    url: https://dps.cs.ut.ee/people.html\n",
      "    email: mohamed.ragab@ut.ee, mehrdad.asadi@ut.ee, rasheed.ottun@ut.ee, huber.flores@ut.ee\n",
      "  license:\n",
      "    name: Apache 2.0\n",
      "    url: https://www.apache.org/licenses/LICENSE-2.0.html\n",
      "servers:\n",
      "  - url: http://localhost:80\n",
      "paths:\n",
      "  /:\n",
      "    get:\n",
      "      summary: Root\n",
      "      operationId: root__get\n",
      "      responses:\n",
      "        \"200\":\n",
      "          description: Successful Response\n",
      "          content:\n",
      "            application/json:\n",
      "              schema: {}\n",
      "  /users:\n",
      "    get:\n",
      "      summary: Users\n",
      "      operationId: users_users_get\n",
      "      responses:\n",
      "        \"200\":\n",
      "          description: Successful Response\n",
      "          content:\n",
      "            application/json:\n",
      "              schema: {}\n",
      "  /programming_languages:\n",
      "    get:\n",
      "      summary: List Programming Languages\n",
      "      operationId: list_programming_languages_programming_languages_get\n",
      "      parameters:\n",
      "        - required: false\n",
      "          schema:\n",
      "            title: Publication Year\n",
      "            type: integer\n",
      "            default: 2010\n",
      "          name: publication_year\n",
      "          in: query\n",
      "        - required: false\n",
      "          schema:\n",
      "            title: In Memory Datastore\n",
      "            default: volt\n",
      "          name: in_memory_datastore\n",
      "          in: query\n",
      "      responses:\n",
      "        \"200\":\n",
      "          description: Successful Response\n",
      "          content:\n",
      "            application/json:\n",
      "              schema: {}\n",
      "        \"422\":\n",
      "          description: Validation Error\n",
      "          content:\n",
      "            application/json:\n",
      "              schema:\n",
      "                $ref: '#/components/schemas/HTTPValidationError'\n",
      "  /newhello:\n",
      "    get:\n",
      "      summary: Root\n",
      "      operationId: root_newhello_get\n",
      "      responses:\n",
      "        \"200\":\n",
      "          description: Successful Response\n",
      "          content:\n",
      "            application/json:\n",
      "              schema: {}\n",
      "components:\n",
      "  schemas:\n",
      "    HTTPValidationError:\n",
      "      title: HTTPValidationError\n",
      "      type: object\n",
      "      properties:\n",
      "        detail:\n",
      "          title: Detail\n",
      "          type: array\n",
      "          items:\n",
      "            $ref: '#/components/schemas/ValidationError'\n",
      "    ValidationError:\n",
      "      title: ValidationError\n",
      "      required:\n",
      "        - loc\n",
      "        - msg\n",
      "        - type\n",
      "      type: object\n",
      "      properties:\n",
      "        loc:\n",
      "          title: Location\n",
      "          type: array\n",
      "          items:\n",
      "            type: string\n",
      "        msg:\n",
      "          title: Message\n",
      "          type: string\n",
      "        type:\n",
      "          title: Error Type\n",
      "          type: string\n"
     ]
    },
    {
     "data": {
      "text/plain": [
       "0"
      ]
     },
     "execution_count": 17,
     "metadata": {},
     "output_type": "execute_result"
    }
   ],
   "source": [
    "os.system (\"bash -c 'yq -P openapi.json.1'\")"
   ]
  },
  {
   "cell_type": "code",
   "execution_count": 18,
   "id": "948ac8a6",
   "metadata": {},
   "outputs": [
    {
     "data": {
      "text/plain": [
       "0"
      ]
     },
     "execution_count": 18,
     "metadata": {},
     "output_type": "execute_result"
    }
   ],
   "source": [
    "os.system (\"bash -c 'yq -P openapi.json.1> openapi.yaml.1'\")"
   ]
  },
  {
   "cell_type": "markdown",
   "id": "4d0eaf6b",
   "metadata": {},
   "source": [
    "#### Using \"Inso\" Generate the fast-api-yaml that decK can understand."
   ]
  },
  {
   "cell_type": "code",
   "execution_count": 19,
   "id": "0c27f695",
   "metadata": {},
   "outputs": [
    {
     "name": "stdout",
     "output_type": "stream",
     "text": [
      "········\n"
     ]
    },
    {
     "name": "stderr",
     "output_type": "stream",
     "text": [
      "Password:"
     ]
    },
    {
     "name": "stdout",
     "output_type": "stream",
     "text": [
      "Configuration generated to \"fastapi-deck.yaml.1\".\n"
     ]
    },
    {
     "data": {
      "text/plain": [
       "0"
      ]
     },
     "execution_count": 19,
     "metadata": {},
     "output_type": "execute_result"
    }
   ],
   "source": [
    "password = getpass.getpass()\n",
    "command=\"sudo -S inso generate config ./openapi.yaml.1 -o fastapi-deck.yaml.1 --verbose\"\n",
    "os.system('echo %s | %s' % (password, command))"
   ]
  },
  {
   "cell_type": "markdown",
   "id": "bdda3f5a",
   "metadata": {},
   "source": [
    "#### List Files in the directory agin!. "
   ]
  },
  {
   "cell_type": "code",
   "execution_count": 20,
   "id": "0b538296",
   "metadata": {},
   "outputs": [
    {
     "name": "stdout",
     "output_type": "stream",
     "text": [
      "total 192\n",
      "-rw-r--r--  1 ragab  staff   5777 Nov 30 15:43 SpatialWorkFlow (Spring Running Service).ipynb\n",
      "-rw-r--r--  1 ragab  staff  19919 Nov 30 16:19 SpatialWorkFlow(Docker Running MicroServices).ipynb\n",
      "-rw-r--r--  1 ragab  staff  32398 Nov 30 16:13 SpatialWorkFlow(XAI).ipynb\n",
      "-rw-r--r--@ 1 ragab  staff   1010 Nov 30 16:11 fastapi-deck-import.yaml\n",
      "-rw-r--r--  1 root   staff   1014 Nov 30 16:10 fastapi-deck.yaml\n",
      "-rw-r--r--  1 root   staff    958 Nov 30 16:19 fastapi-deck.yaml.1\n",
      "-rw-r--r--  1 ragab  staff   4513 Nov 30 16:08 openapi.json\n",
      "-rw-r--r--  1 ragab  staff   2765 Nov 30 16:17 openapi.json.1\n",
      "-rw-r--r--  1 ragab  staff   5526 Nov 30 16:09 openapi.yaml\n",
      "-rw-r--r--  1 ragab  staff   3281 Nov 30 16:18 openapi.yaml.1\n"
     ]
    },
    {
     "data": {
      "text/plain": [
       "0"
      ]
     },
     "execution_count": 20,
     "metadata": {},
     "output_type": "execute_result"
    }
   ],
   "source": [
    "os.system (\"bash -c 'ls -l'\")"
   ]
  },
  {
   "cell_type": "markdown",
   "id": "05393d66",
   "metadata": {},
   "source": [
    "#### Run Kong API GateWay if not started. "
   ]
  },
  {
   "cell_type": "code",
   "execution_count": 21,
   "id": "a8bf2b78",
   "metadata": {},
   "outputs": [
    {
     "name": "stdout",
     "output_type": "stream",
     "text": [
      "2022/11/30 16:19:15 [verbose] Kong: 3.0.0\n",
      "2022/11/30 16:19:15 [verbose] reading config file at /etc/kong/kong.conf\n",
      "2022/11/30 16:19:15 [verbose] prefix in use: /usr/local/opt/kong\n"
     ]
    },
    {
     "name": "stderr",
     "output_type": "stream",
     "text": [
      "Error: \n",
      "/usr/local/share/lua/5.1/kong/cmd/start.lua:59: Kong is already running in /usr/local/opt/kong\n",
      "stack traceback:\n",
      "\t[C]: in function 'assert'\n",
      "\t/usr/local/share/lua/5.1/kong/cmd/start.lua:59: in function 'cmd_exec'\n",
      "\t/usr/local/share/lua/5.1/kong/cmd/init.lua:89: in function </usr/local/share/lua/5.1/kong/cmd/init.lua:89>\n",
      "\t[C]: in function 'xpcall'\n",
      "\t/usr/local/share/lua/5.1/kong/cmd/init.lua:89: in function </usr/local/share/lua/5.1/kong/cmd/init.lua:46>\n",
      "\t/usr/local/bin/kong:10: in function 'file_gen'\n",
      "\tinit_worker_by_lua:49: in function <init_worker_by_lua:47>\n",
      "\t[C]: in function 'xpcall'\n",
      "\tinit_worker_by_lua:56: in function <init_worker_by_lua:54>\n"
     ]
    },
    {
     "data": {
      "text/plain": [
       "256"
      ]
     },
     "execution_count": 21,
     "metadata": {},
     "output_type": "execute_result"
    }
   ],
   "source": [
    "os.system (\"bash -c 'kong start -c /etc/kong/kong.conf --v'\")"
   ]
  },
  {
   "cell_type": "code",
   "execution_count": null,
   "id": "631d190b",
   "metadata": {},
   "outputs": [],
   "source": [
    "#Change the version of the OpenAPI using yq CLI tool\n",
    "# os.system (\"\"\"bash -c \"yq '._format_version = \"3.0\"' fastapi-deck.yaml.1 > fastapi-deck-import.yaml.1 \" \"\"\")"
   ]
  },
  {
   "cell_type": "code",
   "execution_count": 22,
   "id": "27c5f263",
   "metadata": {},
   "outputs": [
    {
     "data": {
      "text/plain": [
       "0"
      ]
     },
     "execution_count": 22,
     "metadata": {},
     "output_type": "execute_result"
    }
   ],
   "source": [
    "os.system (\"\"\"bash -c sed -i 's/1.1/3.0/g' fastapi-deck.yaml.1\"\"\")"
   ]
  },
  {
   "cell_type": "code",
   "execution_count": 23,
   "id": "7f31d116",
   "metadata": {},
   "outputs": [
    {
     "data": {
      "text/plain": [
       "0"
      ]
     },
     "execution_count": 23,
     "metadata": {},
     "output_type": "execute_result"
    }
   ],
   "source": [
    "os.system (\"\"\"bash -c \"sed 's/[$]//g' fastapi-deck.yaml.1> fastapi-deck-import.yaml.1\" \"\"\")"
   ]
  },
  {
   "cell_type": "code",
   "execution_count": null,
   "id": "64747d4e",
   "metadata": {},
   "outputs": [],
   "source": [
    "#Change it using the decK Specs\n",
    "# password = getpass.getpass()\n",
    "# command=\"sudo -S deck convert --from kong-gateway-2.x --to kong-gateway-3.x\"\n",
    "# os.system('echo %s | %s' % (password, command))"
   ]
  },
  {
   "cell_type": "markdown",
   "id": "b9f87cc9",
   "metadata": {},
   "source": [
    "### Update the microservices to the API GateWay using \"decK Syn\"."
   ]
  },
  {
   "cell_type": "code",
   "execution_count": 25,
   "id": "11c92eb8",
   "metadata": {},
   "outputs": [
    {
     "name": "stdout",
     "output_type": "stream",
     "text": [
      "creating service XAI_Microservices_Docker\n",
      "creating route XAI_Microservices_Docker-root_newhello_get\n",
      "creating route XAI_Microservices_Docker-users_users_get\n",
      "creating route XAI_Microservices_Docker-root_get\n",
      "creating route XAI_Microservices_Docker-list_programming_languages_programming_languages_get\n",
      "Summary:\n",
      "  Created: 5\n",
      "  Updated: 0\n",
      "  Deleted: 0\n"
     ]
    },
    {
     "data": {
      "text/plain": [
       "0"
      ]
     },
     "execution_count": 25,
     "metadata": {},
     "output_type": "execute_result"
    }
   ],
   "source": [
    "os.system ('deck sync -s fastapi-deck-import.yaml.1 --select-tag inso-generated-fastapi-services-docker')"
   ]
  },
  {
   "cell_type": "markdown",
   "id": "300e4465",
   "metadata": {},
   "source": [
    "#### Run this only if you want to \"reset\" all confogirations (Services, Routes, Plugins, ertc.) in the Kong API GateWay . "
   ]
  },
  {
   "cell_type": "code",
   "execution_count": null,
   "id": "65c5f8db",
   "metadata": {},
   "outputs": [],
   "source": [
    "os.system (\"bash -c 'deck reset -f'\")"
   ]
  }
 ],
 "metadata": {
  "kernelspec": {
   "display_name": "Python 3 (ipykernel)",
   "language": "python",
   "name": "python3"
  },
  "language_info": {
   "codemirror_mode": {
    "name": "ipython",
    "version": 3
   },
   "file_extension": ".py",
   "mimetype": "text/x-python",
   "name": "python",
   "nbconvert_exporter": "python",
   "pygments_lexer": "ipython3",
   "version": "3.9.5"
  }
 },
 "nbformat": 4,
 "nbformat_minor": 5
}
