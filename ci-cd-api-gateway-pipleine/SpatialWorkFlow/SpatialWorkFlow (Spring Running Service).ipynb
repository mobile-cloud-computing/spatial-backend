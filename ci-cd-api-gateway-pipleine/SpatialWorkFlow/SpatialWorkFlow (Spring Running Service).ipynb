{
 "cells": [
  {
   "cell_type": "markdown",
   "id": "f234fd61",
   "metadata": {},
   "source": [
    "## SPATIAL (Spring Running Service) Automation Workflow"
   ]
  },
  {
   "cell_type": "code",
   "execution_count": 1,
   "id": "db07d8d7",
   "metadata": {},
   "outputs": [],
   "source": [
    "#Importing necessary libs\n",
    "import os\n",
    "import getpass"
   ]
  },
  {
   "cell_type": "markdown",
   "id": "36645c7f",
   "metadata": {},
   "source": [
    "#### Extractign the OpenAPI specs from the up-running services. "
   ]
  },
  {
   "cell_type": "code",
   "execution_count": 2,
   "id": "77674b77",
   "metadata": {},
   "outputs": [
    {
     "name": "stderr",
     "output_type": "stream",
     "text": [
      "--2022-11-30 17:11:23--  http://localhost:8080/v3/api-docs\n",
      "Resolving localhost (localhost)... ::1, 127.0.0.1\n",
      "Connecting to localhost (localhost)|::1|:8080... connected.\n",
      "HTTP request sent, awaiting response... 200 \n",
      "Length: 1629 (1,6K) [application/json]\n",
      "Saving to: ‘api-docs’\n",
      "\n",
      "     0K .                                                     100% 77,7M=0s\n",
      "\n",
      "2022-11-30 17:11:23 (77,7 MB/s) - ‘api-docs’ saved [1629/1629]\n",
      "\n"
     ]
    },
    {
     "data": {
      "text/plain": [
       "0"
      ]
     },
     "execution_count": 2,
     "metadata": {},
     "output_type": "execute_result"
    }
   ],
   "source": [
    "os.system (\"bash -c 'wget  http://localhost:8080/v3/api-docs'\")"
   ]
  },
  {
   "cell_type": "markdown",
   "id": "bb4d9a40",
   "metadata": {},
   "source": [
    "#### Show the OpenAPI specs from the up-running services. "
   ]
  },
  {
   "cell_type": "code",
   "execution_count": 3,
   "id": "aaa93968",
   "metadata": {},
   "outputs": [
    {
     "name": "stdout",
     "output_type": "stream",
     "text": [
      "{\n",
      "  \"openapi\": \"3.0.1\",\n",
      "  \"info\": {\n",
      "    \"title\": \"weatherbackend\",\n",
      "    \"version\": \"v2.0\"\n",
      "  },\n",
      "  \"servers\": [\n",
      "    {\n",
      "      \"url\": \"http://localhost:8080\"\n",
      "    }\n",
      "  ],\n",
      "  \"paths\": {\n",
      "    \"/weather/general/outlook\": {\n",
      "      \"get\": {\n",
      "        \"tags\": [\n",
      "          \"weather-backend-api\"\n",
      "        ],\n",
      "        \"operationId\": \"infoAboutGeneralOutlook\",\n",
      "        \"responses\": {\n",
      "          \"200\": {\n",
      "            \"description\": \"OK\",\n",
      "            \"content\": {\n",
      "              \"application/json\": {\n",
      "                \"schema\": {\n",
      "                  \"type\": \"string\"\n",
      "                }\n",
      "              }\n",
      "            }\n",
      "          }\n",
      "        }\n",
      "      },\n",
      "      \"post\": {\n",
      "        \"tags\": [\n",
      "          \"weather-backend-api\"\n",
      "        ],\n",
      "        \"operationId\": \"generateGeneralOutlook\",\n",
      "        \"requestBody\": {\n",
      "          \"content\": {\n",
      "            \"application/json\": {\n",
      "              \"schema\": {\n",
      "                \"$ref\": \"#/components/schemas/Weather\"\n",
      "              }\n",
      "            }\n",
      "          },\n",
      "          \"required\": true\n",
      "        },\n",
      "        \"responses\": {\n",
      "          \"200\": {\n",
      "            \"description\": \"OK\",\n",
      "            \"content\": {\n",
      "              \"application/json\": {\n",
      "                \"schema\": {\n",
      "                  \"$ref\": \"#/components/schemas/GeneralOutlook\"\n",
      "                }\n",
      "              }\n",
      "            }\n",
      "          }\n",
      "        }\n",
      "      }\n",
      "    },\n",
      "    \"/weather/{name}\": {\n",
      "      \"get\": {\n",
      "        \"tags\": [\n",
      "          \"weather-backend-api\"\n",
      "        ],\n",
      "        \"operationId\": \"whatsTheSenseInThat\",\n",
      "        \"parameters\": [\n",
      "          {\n",
      "            \"name\": \"name\",\n",
      "            \"in\": \"path\",\n",
      "            \"required\": true,\n",
      "            \"schema\": {\n",
      "              \"type\": \"string\"\n",
      "            }\n",
      "          }\n",
      "        ],\n",
      "        \"responses\": {\n",
      "          \"200\": {\n",
      "            \"description\": \"OK\",\n",
      "            \"content\": {\n",
      "              \"text/plain\": {\n",
      "                \"schema\": {\n",
      "                  \"type\": \"string\"\n",
      "                }\n",
      "              }\n",
      "            }\n",
      "          }\n",
      "        }\n",
      "      }\n",
      "    }\n",
      "  },\n",
      "  \"components\": {\n",
      "    \"schemas\": {\n",
      "      \"User\": {\n",
      "        \"ty"
     ]
    },
    {
     "name": "stderr",
     "output_type": "stream",
     "text": [
      "  % Total    % Received % Xferd  Average Speed   Time    Time     Time  Current\n",
      "                                 Dload  Upload   Total   Spent    Left  Speed\n",
      "\r",
      "  0     0    0     0    0     0      0      0 --:--:-- --:--:-- --:--:--     0\r",
      "100  1629  100  1629    0     0  33183      0 --:--:-- --:--:-- --:--:-- 38785\n"
     ]
    },
    {
     "data": {
      "text/plain": [
       "0"
      ]
     },
     "execution_count": 3,
     "metadata": {},
     "output_type": "execute_result"
    },
    {
     "name": "stdout",
     "output_type": "stream",
     "text": [
      "pe\": \"object\",\n",
      "        \"properties\": {\n",
      "          \"age\": {\n",
      "            \"type\": \"integer\",\n",
      "            \"format\": \"int32\"\n",
      "          },\n",
      "          \"contribution\": {\n",
      "            \"type\": \"integer\",\n",
      "            \"format\": \"int32\"\n",
      "          },\n",
      "          \"methodOfPayment\": {\n",
      "            \"type\": \"string\",\n",
      "            \"enum\": [\n",
      "              \"Paypal\",\n",
      "              \"Bitcoin\",\n",
      "              \"Unknown\"\n",
      "            ]\n",
      "          }\n",
      "        }\n",
      "      },\n",
      "      \"Weather\": {\n",
      "        \"type\": \"object\",\n",
      "        \"properties\": {\n",
      "          \"postalCode\": {\n",
      "            \"type\": \"string\"\n",
      "          },\n",
      "          \"flagColor\": {\n",
      "            \"type\": \"string\"\n",
      "          },\n",
      "          \"product\": {\n",
      "            \"type\": \"string\",\n",
      "            \"enum\": [\n",
      "              \"ForecastBasic\",\n",
      "              \"ForecastProfessional\",\n",
      "              \"ForecastUltimateXL\",\n",
      "              \"Unknown\"\n",
      "            ]\n",
      "          },\n",
      "          \"users\": {\n",
      "            \"type\": \"array\",\n",
      "            \"items\": {\n",
      "              \"$ref\": \"#/components/schemas/User\"\n",
      "            }\n",
      "          }\n",
      "        }\n",
      "      },\n",
      "      \"GeneralOutlook\": {\n",
      "        \"type\": \"object\",\n",
      "        \"properties\": {\n",
      "          \"city\": {\n",
      "            \"type\": \"string\"\n",
      "          },\n",
      "          \"state\": {\n",
      "            \"type\": \"string\"\n",
      "          },\n",
      "          \"weatherStation\": {\n",
      "            \"type\": \"string\"\n",
      "          },\n",
      "          \"date\": {\n",
      "            \"type\": \"string\",\n",
      "            \"format\": \"date-time\"\n",
      "          }\n",
      "        }\n",
      "      }\n",
      "    }\n",
      "  }\n",
      "}\n"
     ]
    }
   ],
   "source": [
    "os.system (\"bash -c 'curl http://localhost:8080/v3/api-docs |jq'\")"
   ]
  },
  {
   "cell_type": "markdown",
   "id": "82e1b6e1",
   "metadata": {},
   "source": [
    "#### List Files in the directory. "
   ]
  },
  {
   "cell_type": "code",
   "execution_count": 5,
   "id": "6b0251a6",
   "metadata": {},
   "outputs": [
    {
     "name": "stdout",
     "output_type": "stream",
     "text": [
      "total 136\n",
      "-rw-r--r--  1 ragab  staff   5777 Nov 30 15:43 SpatialWorkFlow (Spring Running Service).ipynb\n",
      "-rw-r--r--  1 ragab  staff  23702 Nov 30 16:21 SpatialWorkFlow(Docker Running MicroServices).ipynb\n",
      "-rw-r--r--  1 ragab  staff  32398 Nov 30 16:13 SpatialWorkFlow(XAI).ipynb\n",
      "-rw-r--r--  1 ragab  staff   1629 Nov 30 17:11 api-docs\n"
     ]
    },
    {
     "data": {
      "text/plain": [
       "0"
      ]
     },
     "execution_count": 5,
     "metadata": {},
     "output_type": "execute_result"
    }
   ],
   "source": [
    "os.system (\"bash -c 'ls -l'\")"
   ]
  },
  {
   "cell_type": "markdown",
   "id": "da1e22d4",
   "metadata": {},
   "source": [
    "#### Convert the generated openapi specs json file into yaml\n"
   ]
  },
  {
   "cell_type": "code",
   "execution_count": 6,
   "id": "66e112f1",
   "metadata": {},
   "outputs": [
    {
     "name": "stdout",
     "output_type": "stream",
     "text": [
      "openapi: 3.0.1\n",
      "info:\n",
      "  title: weatherbackend\n",
      "  version: v2.0\n",
      "servers:\n",
      "  - url: http://localhost:8080\n",
      "paths:\n",
      "  /weather/general/outlook:\n",
      "    get:\n",
      "      tags:\n",
      "        - weather-backend-api\n",
      "      operationId: infoAboutGeneralOutlook\n",
      "      responses:\n",
      "        \"200\":\n",
      "          description: OK\n",
      "          content:\n",
      "            application/json:\n",
      "              schema:\n",
      "                type: string\n",
      "    post:\n",
      "      tags:\n",
      "        - weather-backend-api\n",
      "      operationId: generateGeneralOutlook\n",
      "      requestBody:\n",
      "        content:\n",
      "          application/json:\n",
      "            schema:\n",
      "              $ref: '#/components/schemas/Weather'\n",
      "        required: true\n",
      "      responses:\n",
      "        \"200\":\n",
      "          description: OK\n",
      "          content:\n",
      "            application/json:\n",
      "              schema:\n",
      "                $ref: '#/components/schemas/GeneralOutlook'\n",
      "  /weather/{name}:\n",
      "    get:\n",
      "      tags:\n",
      "        - weather-backend-api\n",
      "      operationId: whatsTheSenseInThat\n",
      "      parameters:\n",
      "        - name: name\n",
      "          in: path\n",
      "          required: true\n",
      "          schema:\n",
      "            type: string\n",
      "      responses:\n",
      "        \"200\":\n",
      "          description: OK\n",
      "          content:\n",
      "            text/plain:\n",
      "              schema:\n",
      "                type: string\n",
      "components:\n",
      "  schemas:\n",
      "    User:\n",
      "      type: object\n",
      "      properties:\n",
      "        age:\n",
      "          type: integer\n",
      "          format: int32\n",
      "        contribution:\n",
      "          type: integer\n",
      "          format: int32\n",
      "        methodOfPayment:\n",
      "          type: string\n",
      "          enum:\n",
      "            - Paypal\n",
      "            - Bitcoin\n",
      "            - Unknown\n",
      "    Weather:\n",
      "      type: object\n",
      "      properties:\n",
      "        postalCode:\n",
      "          type: string\n",
      "        flagColor:\n",
      "          type: string\n",
      "        product:\n",
      "          type: string\n",
      "          enum:\n",
      "            - ForecastBasic\n",
      "            - ForecastProfessional\n",
      "            - ForecastUltimateXL\n",
      "            - Unknown\n",
      "        users:\n",
      "          type: array\n",
      "          items:\n",
      "            $ref: '#/components/schemas/User'\n",
      "    GeneralOutlook:\n",
      "      type: object\n",
      "      properties:\n",
      "        city:\n",
      "          type: string\n",
      "        state:\n",
      "          type: string\n",
      "        weatherStation:\n",
      "          type: string\n",
      "        date:\n",
      "          type: string\n",
      "          format: date-time\n"
     ]
    },
    {
     "data": {
      "text/plain": [
       "0"
      ]
     },
     "execution_count": 6,
     "metadata": {},
     "output_type": "execute_result"
    }
   ],
   "source": [
    "os.system (\"bash -c 'yq -P api-docs'\")"
   ]
  },
  {
   "cell_type": "code",
   "execution_count": 7,
   "id": "948ac8a6",
   "metadata": {},
   "outputs": [
    {
     "data": {
      "text/plain": [
       "0"
      ]
     },
     "execution_count": 7,
     "metadata": {},
     "output_type": "execute_result"
    }
   ],
   "source": [
    "os.system (\"bash -c 'yq -P api-docs> openapi.spring.yaml'\")"
   ]
  },
  {
   "cell_type": "markdown",
   "id": "4d0eaf6b",
   "metadata": {},
   "source": [
    "#### Using \"Inso\" Generate the fast-api-yaml that decK can understand."
   ]
  },
  {
   "cell_type": "code",
   "execution_count": 19,
   "id": "0c27f695",
   "metadata": {},
   "outputs": [
    {
     "name": "stdout",
     "output_type": "stream",
     "text": [
      "········\n"
     ]
    },
    {
     "name": "stderr",
     "output_type": "stream",
     "text": [
      "Password:"
     ]
    },
    {
     "name": "stdout",
     "output_type": "stream",
     "text": [
      "› Data store configured from app data directory at /Users/ragab/Library/Application Support/Insomnia\n",
      "› Load api specification with identifier ./openapi.spring.yaml from data store\n",
      "› Found 0.\n",
      "› Generating config from file openapi.spring.yaml\n",
      "Configuration generated to \"fastapi-deck.spring.yaml\".\n"
     ]
    },
    {
     "data": {
      "text/plain": [
       "0"
      ]
     },
     "execution_count": 19,
     "metadata": {},
     "output_type": "execute_result"
    }
   ],
   "source": [
    "password = getpass.getpass()\n",
    "command=\"sudo -S inso generate config ./openapi.spring.yaml -o fastapi-deck.spring.yaml --verbose\"\n",
    "os.system('echo %s | %s' % (password, command))"
   ]
  },
  {
   "cell_type": "markdown",
   "id": "bdda3f5a",
   "metadata": {},
   "source": [
    "#### List Files in the directory agin!. "
   ]
  },
  {
   "cell_type": "code",
   "execution_count": 9,
   "id": "0b538296",
   "metadata": {},
   "outputs": [
    {
     "name": "stdout",
     "output_type": "stream",
     "text": [
      "total 152\n",
      "-rw-r--r--  1 ragab  staff   5777 Nov 30 15:43 SpatialWorkFlow (Spring Running Service).ipynb\n",
      "-rw-r--r--  1 ragab  staff  23702 Nov 30 16:21 SpatialWorkFlow(Docker Running MicroServices).ipynb\n",
      "-rw-r--r--  1 ragab  staff  32398 Nov 30 16:13 SpatialWorkFlow(XAI).ipynb\n",
      "-rw-r--r--  1 ragab  staff   1629 Nov 30 17:11 api-docs\n",
      "-rw-r--r--  1 root   staff    786 Nov 30 17:11 fastapi-deck.spring.yaml\n",
      "-rw-r--r--  1 ragab  staff   2199 Nov 30 17:11 openapi.spring.yaml\n"
     ]
    },
    {
     "data": {
      "text/plain": [
       "0"
      ]
     },
     "execution_count": 9,
     "metadata": {},
     "output_type": "execute_result"
    }
   ],
   "source": [
    "os.system (\"bash -c 'ls -l'\")"
   ]
  },
  {
   "cell_type": "markdown",
   "id": "05393d66",
   "metadata": {},
   "source": [
    "#### Run Kong API GateWay if not started. "
   ]
  },
  {
   "cell_type": "code",
   "execution_count": 17,
   "id": "a8bf2b78",
   "metadata": {},
   "outputs": [
    {
     "name": "stderr",
     "output_type": "stream",
     "text": [
      "Error: Kong is already running in /usr/local/opt/kong\n",
      "\n",
      "  Run with --v (verbose) or --vv (debug) for more details\n"
     ]
    },
    {
     "data": {
      "text/plain": [
       "256"
      ]
     },
     "execution_count": 17,
     "metadata": {},
     "output_type": "execute_result"
    }
   ],
   "source": [
    "os.system (\"bash -c 'kong start -c /etc/kong/kong.conf'\")"
   ]
  },
  {
   "cell_type": "markdown",
   "id": "b9f87cc9",
   "metadata": {},
   "source": [
    "### Cleaning the file.."
   ]
  },
  {
   "cell_type": "code",
   "execution_count": 11,
   "id": "631d190b",
   "metadata": {},
   "outputs": [],
   "source": [
    "#Change the version of the OpenAPI using yq CLI tool\n",
    "# os.system (\"\"\"bash -c \"yq '._format_version = \"3.0\"' fastapi-deck.yaml.1 > fastapi-deck-import.yaml.1 \" \"\"\")"
   ]
  },
  {
   "cell_type": "code",
   "execution_count": 12,
   "id": "27c5f263",
   "metadata": {},
   "outputs": [
    {
     "data": {
      "text/plain": [
       "0"
      ]
     },
     "execution_count": 12,
     "metadata": {},
     "output_type": "execute_result"
    }
   ],
   "source": [
    "os.system (\"\"\"bash -c sed -i 's/1.1/3.0/g' fastapi-deck.spring.yaml\"\"\")"
   ]
  },
  {
   "cell_type": "code",
   "execution_count": 13,
   "id": "7f31d116",
   "metadata": {},
   "outputs": [
    {
     "data": {
      "text/plain": [
       "0"
      ]
     },
     "execution_count": 13,
     "metadata": {},
     "output_type": "execute_result"
    }
   ],
   "source": [
    "os.system (\"\"\"bash -c \"sed 's/[$]//g' fastapi-deck.spring.yaml> fastapi-deck.spring.import.yaml\" \"\"\")"
   ]
  },
  {
   "cell_type": "code",
   "execution_count": 14,
   "id": "64747d4e",
   "metadata": {},
   "outputs": [],
   "source": [
    "#Change it using the decK Specs\n",
    "# password = getpass.getpass()\n",
    "# command=\"sudo -S deck convert --from kong-gateway-2.x --to kong-gateway-3.x\"\n",
    "# os.system('echo %s | %s' % (password, command))"
   ]
  },
  {
   "cell_type": "markdown",
   "id": "6164d85c",
   "metadata": {},
   "source": [
    "### Update the microservices to the API GateWay using \"decK Syn\"."
   ]
  },
  {
   "cell_type": "code",
   "execution_count": 16,
   "id": "11c92eb8",
   "metadata": {},
   "outputs": [
    {
     "name": "stdout",
     "output_type": "stream",
     "text": [
      "1 unsupported routes' paths format with Kong version 3.0\n",
      "or above were detected. Some of these routes are (not an exhaustive list):\n",
      "\n",
      "53df84f2-cd29-47df-8972-1a9276b5d82f\n",
      "\n",
      "Please upgrade your configuration to account for 3.0\n",
      "breaking changes using the following command:\n",
      "\n",
      "deck convert --from kong-gateway-2.x --to kong-gateway-3.x\n",
      "\n",
      "This command performs the following changes:\n",
      "  - upgrade the `_format_version` value to `3.0`\n",
      "  - add the `~` prefix to all routes' paths containing a regex-pattern\n",
      "\n",
      "These changes may not be correct or exhaustive enough.\n",
      "It is strongly recommended to perform a manual audit\n",
      "of the updated configuration file before applying\n",
      "the configuration in production. Incorrect changes will result in\n",
      "unintended traffic routing by Kong Gateway.\n",
      "\n",
      "For more information about this and related changes,\n",
      "please visit: https://docs.konghq.com/deck/latest/3.0-upgrade\n",
      "\n",
      "creating service weatherbackend\n",
      "creating route weatherbackend-whatsTheSenseInThat\n",
      "creating route weatherbackend-infoAboutGeneralOutlook\n",
      "creating route weatherbackend-generateGeneralOutlook\n",
      "Summary:\n",
      "  Created: 4\n"
     ]
    },
    {
     "data": {
      "text/plain": [
       "0"
      ]
     },
     "execution_count": 16,
     "metadata": {},
     "output_type": "execute_result"
    },
    {
     "name": "stdout",
     "output_type": "stream",
     "text": [
      "  Updated: 0\n",
      "  Deleted: 0\n"
     ]
    }
   ],
   "source": [
    "os.system ('deck sync -s fastapi-deck.spring.import.yaml --select-tag inso-generated-fastapi-spring-services')"
   ]
  },
  {
   "cell_type": "markdown",
   "id": "300e4465",
   "metadata": {},
   "source": [
    "#### Run this only if you want to \"reset\" all confogirations (Services, Routes, Plugins, ertc.) in the Kong API GateWay . "
   ]
  },
  {
   "cell_type": "code",
   "execution_count": null,
   "id": "65c5f8db",
   "metadata": {},
   "outputs": [],
   "source": [
    "os.system (\"bash -c 'deck reset -f'\")"
   ]
  }
 ],
 "metadata": {
  "kernelspec": {
   "display_name": "Python 3 (ipykernel)",
   "language": "python",
   "name": "python3"
  },
  "language_info": {
   "codemirror_mode": {
    "name": "ipython",
    "version": 3
   },
   "file_extension": ".py",
   "mimetype": "text/x-python",
   "name": "python",
   "nbconvert_exporter": "python",
   "pygments_lexer": "ipython3",
   "version": "3.9.5"
  }
 },
 "nbformat": 4,
 "nbformat_minor": 5
}
